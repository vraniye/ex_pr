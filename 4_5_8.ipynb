{
 "cells": [
  {
   "cell_type": "markdown",
   "metadata": {},
   "source": [
    "***8 практика***"
   ]
  },
  {
   "cell_type": "code",
   "execution_count": 1,
   "metadata": {},
   "outputs": [
    {
     "name": "stdout",
     "output_type": "stream",
     "text": [
      "WARNING:tensorflow:From c:\\Users\\chechkysh\\Desktop\\learn\\last\\piis\\5lab\\.venv\\Lib\\site-packages\\keras\\src\\losses.py:2976: The name tf.losses.sparse_softmax_cross_entropy is deprecated. Please use tf.compat.v1.losses.sparse_softmax_cross_entropy instead.\n",
      "\n"
     ]
    }
   ],
   "source": [
    "#импортируем библиотеки\n",
    "import matplotlib.pyplot as plt\n",
    "import tensorflow as tf\n",
    "import numpy as np\n",
    "\n",
    "from emnist import extract_training_samples, extract_test_samples"
   ]
  },
  {
   "cell_type": "code",
   "execution_count": 2,
   "metadata": {},
   "outputs": [],
   "source": [
    "#загружаем тренировочную и тестовые выборки\n",
    "train_images, train_labels = extract_training_samples('letters')\n",
    "test_images, test_labels = extract_test_samples('letters')\n"
   ]
  },
  {
   "cell_type": "code",
   "execution_count": 3,
   "metadata": {},
   "outputs": [],
   "source": [
    "train_images = train_images / 255.0\n",
    "test_images = test_images / 255.0"
   ]
  },
  {
   "cell_type": "code",
   "execution_count": 4,
   "metadata": {},
   "outputs": [],
   "source": [
    "#преобразуем метки в вектор с единицей на правильном ответе\n",
    "from keras.utils import to_categorical\n",
    "train_labels = to_categorical(train_labels)\n",
    "test_labels = to_categorical(test_labels)"
   ]
  },
  {
   "cell_type": "code",
   "execution_count": 5,
   "metadata": {},
   "outputs": [
    {
     "name": "stdout",
     "output_type": "stream",
     "text": [
      "WARNING:tensorflow:From c:\\Users\\chechkysh\\Desktop\\learn\\last\\piis\\5lab\\.venv\\Lib\\site-packages\\keras\\src\\backend.py:873: The name tf.get_default_graph is deprecated. Please use tf.compat.v1.get_default_graph instead.\n",
      "\n"
     ]
    }
   ],
   "source": [
    "#задаем архитектуру сети №1\n",
    "from tensorflow.keras.layers import Dense, Activation, Flatten\n",
    "from tensorflow.keras.models import Sequential\n",
    "model = Sequential()\n",
    "model.add(Flatten())\n",
    "model.add(Dense(256, activation='relu'))\n",
    "model.add(Dense(27, activation='softmax'))"
   ]
  },
  {
   "cell_type": "markdown",
   "metadata": {},
   "source": [
    "Создаем колбэк тензорборда. Путь должен быть полным и не иметь русских букв"
   ]
  },
  {
   "cell_type": "code",
   "execution_count": 6,
   "metadata": {},
   "outputs": [],
   "source": [
    "from keras.callbacks import TensorBoard\n",
    "\n",
    "# Создание экземпляра TensorBoard\n",
    "tensorboard_callback = TensorBoard(log_dir='C:\\\\Users\\\\chechkysh\\\\Desktop\\\\learn\\\\last\\\\piis\\\\5lab\\\\tblogs', histogram_freq=1)\n"
   ]
  },
  {
   "cell_type": "code",
   "execution_count": 8,
   "metadata": {},
   "outputs": [
    {
     "name": "stdout",
     "output_type": "stream",
     "text": [
      "WARNING:tensorflow:From c:\\Users\\chechkysh\\Desktop\\learn\\last\\piis\\5lab\\.venv\\Lib\\site-packages\\keras\\src\\optimizers\\__init__.py:309: The name tf.train.Optimizer is deprecated. Please use tf.compat.v1.train.Optimizer instead.\n",
      "\n"
     ]
    }
   ],
   "source": [
    "model.compile(optimizer='adam',loss='categorical_crossentropy', metrics=['accuracy'])"
   ]
  },
  {
   "cell_type": "markdown",
   "metadata": {},
   "source": [
    "После обучения в терминале вводим команду \n",
    "\n",
    "tensorboard --logdir=C:\\\\Users\\\\chechkysh\\\\Desktop\\\\learn\\\\last\\\\piis\\\\5lab\\\\tblogs\n",
    "\n",
    "А потом заходим в браузере на http://localhost:6006/"
   ]
  },
  {
   "cell_type": "code",
   "execution_count": 9,
   "metadata": {},
   "outputs": [
    {
     "name": "stdout",
     "output_type": "stream",
     "text": [
      "Epoch 1/5\n",
      "WARNING:tensorflow:From c:\\Users\\chechkysh\\Desktop\\learn\\last\\piis\\5lab\\.venv\\Lib\\site-packages\\keras\\src\\utils\\tf_utils.py:492: The name tf.ragged.RaggedTensorValue is deprecated. Please use tf.compat.v1.ragged.RaggedTensorValue instead.\n",
      "\n",
      "WARNING:tensorflow:From c:\\Users\\chechkysh\\Desktop\\learn\\last\\piis\\5lab\\.venv\\Lib\\site-packages\\keras\\src\\engine\\base_layer_utils.py:384: The name tf.executing_eagerly_outside_functions is deprecated. Please use tf.compat.v1.executing_eagerly_outside_functions instead.\n",
      "\n",
      "975/975 [==============================] - 8s 7ms/step - loss: 0.8047 - accuracy: 0.7688 - val_loss: 0.5112 - val_accuracy: 0.8511\n",
      "Epoch 2/5\n",
      "975/975 [==============================] - 7s 7ms/step - loss: 0.4297 - accuracy: 0.8701 - val_loss: 0.4080 - val_accuracy: 0.8758\n",
      "Epoch 3/5\n",
      "975/975 [==============================] - 6s 6ms/step - loss: 0.3445 - accuracy: 0.8937 - val_loss: 0.3656 - val_accuracy: 0.8890\n",
      "Epoch 4/5\n",
      "975/975 [==============================] - 6s 6ms/step - loss: 0.3008 - accuracy: 0.9051 - val_loss: 0.3567 - val_accuracy: 0.8878\n",
      "Epoch 5/5\n",
      "975/975 [==============================] - 6s 6ms/step - loss: 0.2714 - accuracy: 0.9138 - val_loss: 0.3306 - val_accuracy: 0.8966\n"
     ]
    },
    {
     "data": {
      "text/plain": [
       "<keras.src.callbacks.History at 0x289b5533950>"
      ]
     },
     "execution_count": 9,
     "metadata": {},
     "output_type": "execute_result"
    }
   ],
   "source": [
    "model.fit(train_images, train_labels, validation_data=(test_images, test_labels), epochs=5, batch_size=128, callbacks=[tensorboard_callback])"
   ]
  },
  {
   "cell_type": "code",
   "execution_count": null,
   "metadata": {},
   "outputs": [],
   "source": [
    "from scipy.ndimage import center_of_mass\n",
    "import math\n",
    "import cv2\n",
    "import numpy as np\n",
    "\n",
    "def getBestShift(img):\n",
    "    cy,cx = center_of_mass(img)\n",
    "\n",
    "    rows,cols = img.shape\n",
    "    shiftx = np.round(cols/2.0-cx).astype(int)\n",
    "    shifty = np.round(rows/2.0-cy).astype(int)\n",
    "\n",
    "    return shiftx,shifty\n",
    "\n",
    "def shift(img,sx,sy):\n",
    "    rows,cols = img.shape\n",
    "    M = np.float32([[1,0,sx],[0,1,sy]])\n",
    "    shifted = cv2.warpAffine(img,M,(cols,rows))\n",
    "    return shifted\n",
    "\n",
    "def rec_digit(img_path):\n",
    "  img = cv2.imread(img_path, cv2.IMREAD_GRAYSCALE)\n",
    "  gray = 255-img\n",
    "  # применяем пороговую обработку\n",
    "  (thresh, gray) = cv2.threshold(gray, 128, 255, cv2.THRESH_BINARY | cv2.THRESH_OTSU)\n",
    "\n",
    "  # удаляем нулевые строки и столбцы\n",
    "  while np.sum(gray[0]) == 0:\n",
    "    gray = gray[1:]\n",
    "  while np.sum(gray[:,0]) == 0:\n",
    "    gray = np.delete(gray,0,1)\n",
    "  while np.sum(gray[-1]) == 0:\n",
    "    gray = gray[:-1]\n",
    "  while np.sum(gray[:,-1]) == 0:\n",
    "    gray = np.delete(gray,-1,1)\n",
    "  rows,cols = gray.shape\n",
    "\n",
    "  # изменяем размер, чтобы помещалось в box 20x20 пикселей\n",
    "  if rows > cols:\n",
    "    factor = 20.0/rows\n",
    "    rows = 20\n",
    "    cols = int(round(cols*factor))\n",
    "    gray = cv2.resize(gray, (cols,rows))\n",
    "  else:\n",
    "    factor = 20.0/cols\n",
    "    cols = 20\n",
    "    rows = int(round(rows*factor))\n",
    "    gray = cv2.resize(gray, (cols, rows))\n",
    "\n",
    "  # расширяем до размера 28x28\n",
    "  colsPadding = (int(math.ceil((28-cols)/2.0)),int(math.floor((28-cols)/2.0)))\n",
    "  rowsPadding = (int(math.ceil((28-rows)/2.0)),int(math.floor((28-rows)/2.0)))\n",
    "  gray = np.lib.pad(gray,(rowsPadding,colsPadding),'constant')\n",
    "\n",
    "  # сдвигаем центр масс\n",
    "  shiftx,shifty = getBestShift(gray)\n",
    "  shifted = shift(gray,shiftx,shifty)\n",
    "  gray = shifted\n",
    "\n",
    "  cv2.imwrite('gray'+ img_path, gray)\n",
    "  img = gray / 255.0\n",
    "  img = np.array(img).reshape(-1, 28, 28, 1)\n",
    "  out = str(np.argmax(model.predict(img)))\n",
    "  return out"
   ]
  },
  {
   "cell_type": "code",
   "execution_count": null,
   "metadata": {},
   "outputs": [],
   "source": [
    "print(rec_digit('doubleyou.jpg'))"
   ]
  },
  {
   "cell_type": "markdown",
   "metadata": {},
   "source": [
    "***5 практика***\n"
   ]
  },
  {
   "cell_type": "code",
   "execution_count": null,
   "metadata": {},
   "outputs": [],
   "source": [
    "import tensorflow as tf\n",
    "from tensorflow.keras.preprocessing import image\n",
    "from tensorflow.keras.applications.vgg16 import preprocess_input, decode_predictions\n",
    "\n",
    "\n",
    "img_path = 'cat.jpg'  # Укажите путь к своему изображению\n",
    "img = image.load_img(img_path, target_size=(32, 32))\n",
    "img_array = image.img_to_array(img)\n",
    "img_array = tf.expand_dims(img_array, 0)\n",
    "img_array = preprocess_input(img_array)\n",
    "\n",
    "predictions = model_7.predict(img_array)\n",
    "\n",
    "\n",
    "# Вывод результатов\n",
    "print(predictions)"
   ]
  }
 ],
 "metadata": {
  "kernelspec": {
   "display_name": ".venv",
   "language": "python",
   "name": "python3"
  },
  "language_info": {
   "codemirror_mode": {
    "name": "ipython",
    "version": 3
   },
   "file_extension": ".py",
   "mimetype": "text/x-python",
   "name": "python",
   "nbconvert_exporter": "python",
   "pygments_lexer": "ipython3",
   "version": "3.11.0"
  }
 },
 "nbformat": 4,
 "nbformat_minor": 2
}
