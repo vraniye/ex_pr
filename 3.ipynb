{
 "cells": [
  {
   "cell_type": "code",
   "execution_count": 4,
   "id": "53cbe60a-a281-4978-b827-4a27cdf61bd6",
   "metadata": {},
   "outputs": [
    {
     "name": "stdout",
     "output_type": "stream",
     "text": [
      "Среднеквадратичная ошибка для каждого блока: [0.03711379 0.04287733 0.05339513 0.06316425 0.0477946 ]\n",
      "Среднеквадратичная ошибка (среднее по блокам): 0.04886902153557486\n"
     ]
    }
   ],
   "source": [
    "from sklearn.datasets import load_iris\n",
    "from sklearn.linear_model import LinearRegression\n",
    "from sklearn.model_selection import cross_val_score, KFold\n",
    "from sklearn.metrics import mean_squared_error\n",
    "import numpy as np\n",
    "\n",
    "# Загрузка датасета Iris\n",
    "iris = load_iris()\n",
    "X, y = iris.data, iris.target\n",
    "\n",
    "# Создание модели линейной регрессии\n",
    "model = LinearRegression()\n",
    "\n",
    "# Определение стратегии K-fold cross-validation\n",
    "kfold = KFold(n_splits=5, shuffle=True, random_state=42)\n",
    "\n",
    "# Выполнение перекрестной проверки и расчет среднеквадратичной ошибки\n",
    "mse_scores = cross_val_score(model, X, y, scoring='neg_mean_squared_error', cv=kfold)\n",
    "\n",
    "# Преобразование отрицательных значений MSE к положительным\n",
    "mse_scores = -mse_scores\n",
    "\n",
    "# Вывод среднего значения среднеквадратичной ошибки\n",
    "print(\"Среднеквадратичная ошибка для каждого блока:\", mse_scores)\n",
    "print(\"Среднеквадратичная ошибка (среднее по блокам):\", np.mean(mse_scores))"
   ]
  },
  {
   "cell_type": "code",
   "execution_count": 1,
   "id": "ffba70f3-03de-4cdc-ab33-5dd0e46a496a",
   "metadata": {},
   "outputs": [
    {
     "data": {
      "text/plain": [
       "'C:\\\\Users\\\\Санчо Панчо'"
      ]
     },
     "execution_count": 1,
     "metadata": {},
     "output_type": "execute_result"
    }
   ],
   "source": [
    "pwd"
   ]
  },
  {
   "cell_type": "code",
   "execution_count": null,
   "id": "dcabc9ab-2c30-408b-801b-d14fc37e906d",
   "metadata": {},
   "outputs": [],
   "source": []
  }
 ],
 "metadata": {
  "kernelspec": {
   "display_name": "Python 3 (ipykernel)",
   "language": "python",
   "name": "python3"
  },
  "language_info": {
   "codemirror_mode": {
    "name": "ipython",
    "version": 3
   },
   "file_extension": ".py",
   "mimetype": "text/x-python",
   "name": "python",
   "nbconvert_exporter": "python",
   "pygments_lexer": "ipython3",
   "version": "3.11.5"
  }
 },
 "nbformat": 4,
 "nbformat_minor": 5
}
