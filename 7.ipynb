{
 "cells": [
  {
   "cell_type": "code",
   "execution_count": 1,
   "id": "a239a626-7cb2-4595-b5b6-0d9358e93eef",
   "metadata": {},
   "outputs": [
    {
     "name": "stdout",
     "output_type": "stream",
     "text": [
      "Точность ансамбля: 98.06%\n"
     ]
    }
   ],
   "source": [
    "from sklearn.ensemble import VotingClassifier\n",
    "from sklearn.neural_network import MLPClassifier\n",
    "from sklearn.datasets import load_digits\n",
    "from sklearn.model_selection import train_test_split\n",
    "from sklearn.metrics import accuracy_score\n",
    "\n",
    "# Загрузка данных (пример с датасетом digits)\n",
    "digits = load_digits()\n",
    "X, y = digits.data, digits.target\n",
    "\n",
    "# Разделение данных на обучающий и тестовый наборы\n",
    "X_train, X_test, y_train, y_test = train_test_split(X, y, test_size=0.2, random_state=42)\n",
    "\n",
    "# Инициализация двух моделей нейронной сети (MLPClassifier)\n",
    "model1 = MLPClassifier(hidden_layer_sizes=(50,), max_iter=1000, random_state=1)\n",
    "model2 = MLPClassifier(hidden_layer_sizes=(100,), max_iter=1000, random_state=2)\n",
    "\n",
    "# Создание ансамбля\n",
    "ensemble_model = VotingClassifier(estimators=[('model1', model1), ('model2', model2)], voting='soft')\n",
    "\n",
    "# Обучение ансамбля\n",
    "ensemble_model.fit(X_train, y_train)\n",
    "\n",
    "# Предсказание на тестовом наборе\n",
    "y_pred = ensemble_model.predict(X_test)\n",
    "\n",
    "# Оценка производительности\n",
    "accuracy = accuracy_score(y_test, y_pred)\n",
    "print(f'Точность ансамбля: {accuracy * 100:.2f}%')\n"
   ]
  },
  {
   "cell_type": "code",
   "execution_count": null,
   "id": "fc29a8d4-43d1-4838-af76-0276e20667fd",
   "metadata": {},
   "outputs": [],
   "source": []
  }
 ],
 "metadata": {
  "kernelspec": {
   "display_name": "Python 3 (ipykernel)",
   "language": "python",
   "name": "python3"
  },
  "language_info": {
   "codemirror_mode": {
    "name": "ipython",
    "version": 3
   },
   "file_extension": ".py",
   "mimetype": "text/x-python",
   "name": "python",
   "nbconvert_exporter": "python",
   "pygments_lexer": "ipython3",
   "version": "3.11.5"
  }
 },
 "nbformat": 4,
 "nbformat_minor": 5
}
