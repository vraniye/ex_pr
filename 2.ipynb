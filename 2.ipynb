{
 "cells": [
  {
   "cell_type": "markdown",
   "id": "4bf58465",
   "metadata": {},
   "source": [
    "В данном примере мы использовали следующие параметры:\n",
    "Функция потерь: binary_crossentropy. Для задачи бинарной классификации, где у нас есть два класса, это хороший выбор, так как она минимизирует расстояние между предсказанными и истинными значениями.\n",
    "Оптимизатор: adam. Adam - это адаптивный метод оптимизации, который эффективно обновляет веса модели, учитывая градиенты.\n",
    "Метрики: accuracy. Метрика accuracy позволяет оценить процент правильно классифицированных примеров на обучающей и тестовой выборках.\n",
    "Мы обучили модель на 5 эпохах с размером пакета 32 и использовали валидационную выборку для мониторинга процесса обучения.\n",
    "\n",
    "\n",
    "Когда мы учим нейросетку на рандомных данных, то нет никакой логической зависимости x от y и поэтому нейросетка учится с примерной точностью 50%\n",
    "Когда на своих возникает переобучение, потому что данных слишком мало. \n",
    "\n",
    "В идеале взять какой-то датасет из интернета "
   ]
  },
  {
   "cell_type": "code",
   "execution_count": 54,
   "id": "6d23ca66",
   "metadata": {},
   "outputs": [
    {
     "name": "stdout",
     "output_type": "stream",
     "text": [
      "[[1 2]\n",
      " [2 3]\n",
      " [3 4]\n",
      " [4 5]\n",
      " [5 6]\n",
      " [6 7]\n",
      " [7 8]] \n",
      " =========== \n",
      " [0 0 0 0 1 1 1] \n",
      " =========== \n",
      " [[ 8  9]\n",
      " [ 9 10]\n",
      " [10 11]\n",
      " [ 1  1]\n",
      " [ 3  1]] \n",
      " =========== \n",
      " [1 1 1 0 0]\n"
     ]
    }
   ],
   "source": [
    "import numpy as np\n",
    "\n",
    "# Создание синтетического датасета\n",
    "# np.random.seed(42)\n",
    "# X = np.random.randn(1000, 2) % 1  # Двумерные признаки\n",
    "# y = np.random.randint(0, 2, 1000)  # Метки классов (0 или 1)\n",
    "\n",
    "# Создание датасета руками\n",
    "X = np.array([[1, 2], [2, 3], [3, 4], [4, 5], [5, 6], [6, 7], [7, 8], [8, 9], [9, 10], [10, 11], [1, 1], [3, 1]])\n",
    "y = np.array([0, 0, 0, 0, 1, 1, 1, 1, 1, 1, 0, 0])\n",
    "\n",
    "# Разделение датасета на обучающую и тестовую выборки\n",
    "split_ratio = 0.6  # Процент данных для обучения\n",
    "split_index = int(len(X) * split_ratio)\n",
    "\n",
    "X_train = X[:split_index]\n",
    "y_train = y[:split_index]\n",
    "X_test = X[split_index:]\n",
    "y_test = y[split_index:]\n",
    "\n",
    "print(X_train,'\\n',\"===========\",'\\n', y_train,'\\n',\"===========\",'\\n', X_test,'\\n',\"===========\",'\\n', y_test)"
   ]
  },
  {
   "cell_type": "code",
   "execution_count": 17,
   "id": "3da427a6",
   "metadata": {
    "scrolled": true
   },
   "outputs": [
    {
     "name": "stdout",
     "output_type": "stream",
     "text": [
      "Epoch 1/5\n",
      "1/1 [==============================] - 2s 2s/step - loss: 2.2470 - accuracy: 0.4444 - val_loss: 2.0285 - val_accuracy: 0.6667\n",
      "Epoch 2/5\n",
      "1/1 [==============================] - 0s 75ms/step - loss: 2.2252 - accuracy: 0.4444 - val_loss: 2.0110 - val_accuracy: 0.6667\n",
      "Epoch 3/5\n",
      "1/1 [==============================] - 0s 69ms/step - loss: 2.2035 - accuracy: 0.4444 - val_loss: 1.9935 - val_accuracy: 0.6667\n",
      "Epoch 4/5\n",
      "1/1 [==============================] - 0s 69ms/step - loss: 2.1818 - accuracy: 0.4444 - val_loss: 1.9761 - val_accuracy: 0.6667\n",
      "Epoch 5/5\n",
      "1/1 [==============================] - 0s 83ms/step - loss: 2.1602 - accuracy: 0.4444 - val_loss: 1.9587 - val_accuracy: 0.6667\n"
     ]
    },
    {
     "data": {
      "text/plain": [
       "<keras.src.callbacks.History at 0x15277419b10>"
      ]
     },
     "execution_count": 17,
     "metadata": {},
     "output_type": "execute_result"
    }
   ],
   "source": [
    "from keras.models import Sequential\n",
    "from keras.layers import Dense\n",
    "\n",
    "# Создание модели\n",
    "model = Sequential()\n",
    "model.add(Dense(10, input_dim=2, activation='relu'))\n",
    "model.add(Dense(1, activation='sigmoid'))\n",
    "\n",
    "# Компиляция модели\n",
    "model.compile(loss='binary_crossentropy', optimizer='adam', metrics=['accuracy'])\n",
    "\n",
    "# Обучение модели\n",
    "model.fit(X_train, y_train, epochs=5, batch_size=32, validation_data=(X_test, y_test))"
   ]
  },
  {
   "cell_type": "markdown",
   "id": "2e440fc6",
   "metadata": {},
   "source": [
    "Ниже мы загрузили датасет (рак молочной железы) с 30 параметрами и бинарной классификацией"
   ]
  },
  {
   "cell_type": "code",
   "execution_count": 60,
   "id": "5232bb77",
   "metadata": {},
   "outputs": [],
   "source": []
  },
  {
   "cell_type": "code",
   "execution_count": 31,
   "id": "cde4254c",
   "metadata": {},
   "outputs": [
    {
     "name": "stdout",
     "output_type": "stream",
     "text": [
      "(569, 30) (569,)\n"
     ]
    }
   ],
   "source": [
    "from sklearn.datasets import load_breast_cancer\n",
    "\n",
    "data = load_breast_cancer()\n",
    "X_from_lib = data.data\n",
    "y_from_lib = data.target\n",
    "print(X_from_lib.shape, y_from_lib.shape)"
   ]
  },
  {
   "cell_type": "code",
   "execution_count": 61,
   "id": "8dacd84b",
   "metadata": {},
   "outputs": [],
   "source": [
    "split_ratio = 0.8  # Процент данных для обучения\n",
    "split_index = int(len(X_from_lib) * split_ratio)\n",
    "\n",
    "X_from_lib_train = X_from_lib[:split_index]\n",
    "y_from_lib_train = y_from_lib[:split_index]\n",
    "X_from_lib_test = X_from_lib[split_index:]\n",
    "y_from_lib_test = y_from_lib[split_index:]"
   ]
  },
  {
   "cell_type": "code",
   "execution_count": 63,
   "id": "31538a08",
   "metadata": {},
   "outputs": [
    {
     "name": "stdout",
     "output_type": "stream",
     "text": [
      "Epoch 1/10\n",
      "18/18 [==============================] - 2s 27ms/step - loss: 10.4232 - accuracy: 0.2933 - val_loss: 5.3034 - val_accuracy: 0.3772\n",
      "Epoch 2/10\n",
      "18/18 [==============================] - 0s 10ms/step - loss: 5.2991 - accuracy: 0.4897 - val_loss: 2.7803 - val_accuracy: 0.6096\n",
      "Epoch 3/10\n",
      "18/18 [==============================] - 0s 13ms/step - loss: 2.2278 - accuracy: 0.6628 - val_loss: 1.4348 - val_accuracy: 0.7588\n",
      "Epoch 4/10\n",
      "18/18 [==============================] - 0s 10ms/step - loss: 1.5522 - accuracy: 0.7185 - val_loss: 0.7105 - val_accuracy: 0.8728\n",
      "Epoch 5/10\n",
      "18/18 [==============================] - 0s 11ms/step - loss: 1.1520 - accuracy: 0.7889 - val_loss: 1.0334 - val_accuracy: 0.8070\n",
      "Epoch 6/10\n",
      "18/18 [==============================] - 0s 11ms/step - loss: 0.9505 - accuracy: 0.8152 - val_loss: 0.7643 - val_accuracy: 0.8596\n",
      "Epoch 7/10\n",
      "18/18 [==============================] - 0s 10ms/step - loss: 0.8842 - accuracy: 0.8270 - val_loss: 0.8915 - val_accuracy: 0.8289\n",
      "Epoch 8/10\n",
      "18/18 [==============================] - 0s 9ms/step - loss: 0.8719 - accuracy: 0.8328 - val_loss: 0.4481 - val_accuracy: 0.8991\n",
      "Epoch 9/10\n",
      "18/18 [==============================] - 0s 9ms/step - loss: 0.8142 - accuracy: 0.8416 - val_loss: 0.8257 - val_accuracy: 0.8553\n",
      "Epoch 10/10\n",
      "18/18 [==============================] - 0s 10ms/step - loss: 0.7045 - accuracy: 0.8534 - val_loss: 0.4472 - val_accuracy: 0.8904\n"
     ]
    },
    {
     "data": {
      "text/plain": [
       "<keras.src.callbacks.History at 0x1520a81d2d0>"
      ]
     },
     "execution_count": 63,
     "metadata": {},
     "output_type": "execute_result"
    }
   ],
   "source": [
    "from keras.models import Sequential\n",
    "from keras.layers import Dense\n",
    "\n",
    "# Создание модели\n",
    "model1 = Sequential()\n",
    "model1.add(Dense(100, input_dim=30, activation='relu'))\n",
    "model1.add(Dense(1, activation='sigmoid'))\n",
    "\n",
    "# Компиляция модели\n",
    "model1.compile(loss='binary_crossentropy', optimizer='adam', metrics=['accuracy'])\n",
    "\n",
    "# Обучение модели\n",
    "model1.fit(X_from_lib_train, y_from_lib_train, epochs=10, batch_size=19, validation_data=(X_from_lib_test, y_from_lib_test))"
   ]
  },
  {
   "cell_type": "code",
   "execution_count": null,
   "id": "8df69bb7",
   "metadata": {},
   "outputs": [],
   "source": []
  }
 ],
 "metadata": {
  "kernelspec": {
   "display_name": "Python 3 (ipykernel)",
   "language": "python",
   "name": "python3"
  },
  "language_info": {
   "codemirror_mode": {
    "name": "ipython",
    "version": 3
   },
   "file_extension": ".py",
   "mimetype": "text/x-python",
   "name": "python",
   "nbconvert_exporter": "python",
   "pygments_lexer": "ipython3",
   "version": "3.11.5"
  }
 },
 "nbformat": 4,
 "nbformat_minor": 5
}
